{
 "cells": [
  {
   "cell_type": "code",
   "execution_count": 19,
   "id": "372ce1b9-4417-4c8a-8f5e-736bedd50c5f",
   "metadata": {},
   "outputs": [
    {
     "data": {
      "text/plain": [
       "1.0"
      ]
     },
     "execution_count": 19,
     "metadata": {},
     "output_type": "execute_result"
    }
   ],
   "source": [
    "## comments\n",
    "#  codes\n",
    "\n",
    "import pandas as pd\n",
    "from sklearn.tree import DecisionTreeClassifier\n",
    "from sklearn.model_selection import train_test_split\n",
    "from sklearn.metrics import accuracy_score\n",
    "\n",
    "music_df = pd.read_csv(\"C:/Users/User/Machine Learning Exercise/music.csv\")\n",
    "\n",
    "music_df\n",
    "## parameters used for .drop() = df.drop(labels=None, axis=0, index=None, columns=None, inplace=False)\n",
    "X = music_df.drop(columns = ['genre'])\n",
    "X\n",
    "## return only genre column\n",
    "y = music_df['genre']\n",
    "y\n",
    "model = DecisionTreeClassifier()\n",
    "model.fit(X, y)\n",
    "\n",
    "## create predictions for 21 y/o male and 22 y/o female \n",
    "## 2D-array\n",
    "## we ask our model to make 2 predictions \n",
    "# predictions = model.predict([[21,1],[22,0]])\n",
    "# predictions \n",
    "\n",
    "## Measure accuracy \n",
    "\n",
    "\n",
    "X_train , X_test, y_train , y_test = train_test_split(X,y,test_size = 0.2)\n",
    "#20% of the data will be reserved for testing, while 80% will be used for training.\n",
    "model.fit(X_train, y_train)\n",
    "predictions = model.predict(X_test)\n",
    "\n",
    "## to get accuracy, compare predictions\n",
    "score = accuracy_score (y_test, predictions)\n",
    "score\n",
    "# score result 0 to 1.0\n",
    "# 1.0 = 100%\n",
    "# randomly change the result\n",
    "# can change the test_size"
   ]
  },
  {
   "cell_type": "code",
   "execution_count": 8,
   "id": "c15a9f67-ed9f-44e3-a23e-b40264fdbed4",
   "metadata": {},
   "outputs": [
    {
     "name": "stderr",
     "output_type": "stream",
     "text": [
      "C:\\Users\\User\\AppData\\Local\\Programs\\Python\\Python312\\Lib\\site-packages\\sklearn\\base.py:493: UserWarning: X does not have valid feature names, but DecisionTreeClassifier was fitted with feature names\n",
      "  warnings.warn(\n"
     ]
    },
    {
     "data": {
      "text/plain": [
       "array(['HipHop'], dtype=object)"
      ]
     },
     "execution_count": 8,
     "metadata": {},
     "output_type": "execute_result"
    }
   ],
   "source": [
    "# model persistance\n",
    "\n",
    "import joblib\n",
    "\n",
    "# joblib.dump(model,'music-recommender.joblib')\n",
    "joblib.load('music-recommender.joblib')\n",
    "\n",
    "predictions = model.predict([[21,1]])\n",
    "predictions\n"
   ]
  },
  {
   "cell_type": "code",
   "execution_count": 13,
   "id": "a562cdf0-5912-4d71-a6c5-8333abbf0e11",
   "metadata": {},
   "outputs": [],
   "source": [
    "# Visualizing a DecisionTree\n",
    "\n",
    "from sklearn import tree\n",
    "\n",
    "tree.export_graphviz(model, out_file = 'music-recommender.dot',\n",
    "                     feature_names = ['age' , 'gender'],\n",
    "                     class_names = sorted(y.unique()),\n",
    "                     label = 'all',\n",
    "                     rounded = True,\n",
    "                     filled = True)\n",
    "            \n"
   ]
  },
  {
   "cell_type": "code",
   "execution_count": null,
   "id": "0046cd67-89e5-4b87-a2b3-9431fd4f81d6",
   "metadata": {},
   "outputs": [],
   "source": []
  }
 ],
 "metadata": {
  "kernelspec": {
   "display_name": "Python 3 (ipykernel)",
   "language": "python",
   "name": "python3"
  },
  "language_info": {
   "codemirror_mode": {
    "name": "ipython",
    "version": 3
   },
   "file_extension": ".py",
   "mimetype": "text/x-python",
   "name": "python",
   "nbconvert_exporter": "python",
   "pygments_lexer": "ipython3",
   "version": "3.12.0"
  }
 },
 "nbformat": 4,
 "nbformat_minor": 5
}
